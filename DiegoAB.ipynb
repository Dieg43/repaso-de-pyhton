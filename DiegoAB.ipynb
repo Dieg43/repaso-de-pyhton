{
  "nbformat": 4,
  "nbformat_minor": 0,
  "metadata": {
    "colab": {
      "provenance": [],
      "authorship_tag": "ABX9TyPQvWNEqvsgzjYXnP1iruEn",
      "include_colab_link": true
    },
    "kernelspec": {
      "name": "python3",
      "display_name": "Python 3"
    },
    "language_info": {
      "name": "python"
    }
  },
  "cells": [
    {
      "cell_type": "markdown",
      "metadata": {
        "id": "view-in-github",
        "colab_type": "text"
      },
      "source": [
        "<a href=\"https://colab.research.google.com/github/Dieg43/repaso-de-pyhton/blob/main/DiegoAB.ipynb\" target=\"_parent\"><img src=\"https://colab.research.google.com/assets/colab-badge.svg\" alt=\"Open In Colab\"/></a>"
      ]
    },
    {
      "cell_type": "markdown",
      "source": [
        "realiza un programa que permita capturar tu nombre y lo imprima seguido de una bienvenida"
      ],
      "metadata": {
        "id": "8RrnwJoaDUPR"
      }
    },
    {
      "cell_type": "code",
      "source": [
        "nombre = input(\"ingresa tu nombre: \")\n",
        "print(\"tu nombre es: \",nombre,\" bienvenido\")"
      ],
      "metadata": {
        "id": "fhuSWLtPDVz8"
      },
      "execution_count": null,
      "outputs": []
    },
    {
      "cell_type": "markdown",
      "source": [
        "realizar un programa que permita capturar 2 numeros enteros e imprima la suma, la resta, multiplicacion y divicion\n"
      ],
      "metadata": {
        "id": "DI5bg5ULDk7-"
      }
    },
    {
      "cell_type": "code",
      "source": [
        "num1 = int(input(\"ingresa tu primer numero: \"))\n",
        "num2 = int(input(\"ingresa tu segundo numero: \"))\n",
        "suma=num1+num2\n",
        "resta=num1-num2\n",
        "mult=num1*num2\n",
        "div=num1/num2\n",
        "print(\"la suma es: \",suma)\n",
        "print(\"la resta es: \",resta)\n",
        "print(\"la multiplicacion es: \",mult)\n",
        "print(\"la divicion es: \",div)"
      ],
      "metadata": {
        "colab": {
          "base_uri": "https://localhost:8080/"
        },
        "id": "3F01mn_tEMtn",
        "outputId": "e8e72baa-de5a-40ee-9699-673f392e6974"
      },
      "execution_count": 5,
      "outputs": [
        {
          "output_type": "stream",
          "name": "stdout",
          "text": [
            "ingresa tu primer numero: 10\n",
            "ingresa tu segundo numero: 5\n",
            "la suma es:  15\n",
            "la resta es:  5\n",
            "la multiplicacion es:  50\n",
            "la divicion es:  2.0\n"
          ]
        }
      ]
    }
  ]
}