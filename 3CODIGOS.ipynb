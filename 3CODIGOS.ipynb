{
  "nbformat": 4,
  "nbformat_minor": 0,
  "metadata": {
    "colab": {
      "provenance": [],
      "authorship_tag": "ABX9TyM1OGcSYJR8/r/VBfk2whp+",
      "include_colab_link": true
    },
    "kernelspec": {
      "name": "python3",
      "display_name": "Python 3"
    },
    "language_info": {
      "name": "python"
    }
  },
  "cells": [
    {
      "cell_type": "markdown",
      "metadata": {
        "id": "view-in-github",
        "colab_type": "text"
      },
      "source": [
        "<a href=\"https://colab.research.google.com/github/Dieg43/repaso-de-pyhton/blob/main/3CODIGOS.ipynb\" target=\"_parent\"><img src=\"https://colab.research.google.com/assets/colab-badge.svg\" alt=\"Open In Colab\"/></a>"
      ]
    },
    {
      "cell_type": "code",
      "execution_count": null,
      "metadata": {
        "id": "m65IrnZO_Oew"
      },
      "outputs": [],
      "source": []
    },
    {
      "cell_type": "markdown",
      "source": [
        "1.- Realizar un programa en python que te permita capturar 3 números enteros e imprima cual de los 3 es el mayor"
      ],
      "metadata": {
        "id": "sxtdKF2o_Zvi"
      }
    },
    {
      "cell_type": "code",
      "source": [
        "num1 = int(input(\"Ingrese el primer número: \"))\n",
        "num2 = int(input(\"Ingrese el segundo número: \"))\n",
        "num3 = int(input(\"Ingrese el tercer número: \"))\n",
        "\n",
        "if num1 > num2 and num1 > num3:\n",
        "    print(\"El número mayor es:\", num1)\n",
        "    if num2 > num1 and num2 > num3:\n",
        "      print(\"El número mayor es:\", num2)\n",
        "      if num1 > num2 and num1 > num3:\n",
        "        print(\"El número mayor es:\", num3)\n",
        "\n",
        ""
      ],
      "metadata": {
        "colab": {
          "base_uri": "https://localhost:8080/"
        },
        "id": "_w846YlF_a7q",
        "outputId": "2d92cf35-526c-45c3-b268-3fa2e1080a7c"
      },
      "execution_count": 3,
      "outputs": [
        {
          "output_type": "stream",
          "name": "stdout",
          "text": [
            "Ingrese el primer número: 12\n",
            "Ingrese el segundo número: 4\n",
            "Ingrese el tercer número: 5\n",
            "El número mayor es: 12\n"
          ]
        }
      ]
    },
    {
      "cell_type": "markdown",
      "source": [
        "2.- Realizar un programa en python mediante el cual calcules el total de caracteres que tiene un nombre capturado desde el teclado."
      ],
      "metadata": {
        "id": "ES2ovoBbBCi9"
      }
    },
    {
      "cell_type": "code",
      "source": [
        "palabra = input(\"Ingrese una palabra: \")\n",
        "caracteres = len(palabra)\n",
        "print(\"la palabra tiene\", caracteres, \"caracteres.\")"
      ],
      "metadata": {
        "colab": {
          "base_uri": "https://localhost:8080/"
        },
        "id": "DosKeRqgBIAU",
        "outputId": "bea514d4-314c-44db-c2a6-924a42e2231a"
      },
      "execution_count": 4,
      "outputs": [
        {
          "output_type": "stream",
          "name": "stdout",
          "text": [
            "Ingrese un nombre: diego\n",
            "El nombre tiene 5 caracteres.\n"
          ]
        }
      ]
    },
    {
      "cell_type": "markdown",
      "source": [
        "3.- Realizar un programa en python que permita imprimir los 7 días de la semana."
      ],
      "metadata": {
        "id": "JoKSKpz1BZcb"
      }
    },
    {
      "cell_type": "code",
      "source": [
        "respuesta = input(\"presiona 1 para los dias de la semana y 2 para cerrar el programa: \")\n",
        "if respuesta == '1':\n",
        "  print(\"Lunes\")\n",
        "  print(\"Martes\")\n",
        "  print(\"Miercoles\")\n",
        "  print(\"Jueves\")\n",
        "  print(\"Viernes\")\n",
        "  print(\"Sabado\")\n",
        "  print(\"Domingo\")\n",
        "\n",
        "else:\n",
        "  print(\"hasta luego\")"
      ],
      "metadata": {
        "colab": {
          "base_uri": "https://localhost:8080/"
        },
        "id": "u7tzZjSbBfwz",
        "outputId": "18d3228a-34f4-4951-b8ea-fd47f2029892"
      },
      "execution_count": 8,
      "outputs": [
        {
          "output_type": "stream",
          "name": "stdout",
          "text": [
            "presiona 1 para los dias de la semana y 2 para cerrar el programa: 1\n",
            "Lunes\n",
            "Martes\n",
            "Miercoles\n",
            "Jueves\n",
            "Viernes\n",
            "Sabado\n",
            "Domingo\n"
          ]
        }
      ]
    }
  ]
}